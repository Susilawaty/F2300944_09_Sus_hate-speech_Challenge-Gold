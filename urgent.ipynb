{
 "cells": [
  {
   "cell_type": "code",
   "execution_count": 2,
   "id": "177e55ba-59c4-40fc-a2f0-50bad8c6e408",
   "metadata": {
    "tags": []
   },
   "outputs": [
    {
     "ename": "FileNotFoundError",
     "evalue": "[Errno 2] No such file or directory: 'data.csv'",
     "output_type": "error",
     "traceback": [
      "\u001b[1;31m---------------------------------------------------------------------------\u001b[0m",
      "\u001b[1;31mFileNotFoundError\u001b[0m                         Traceback (most recent call last)",
      "Cell \u001b[1;32mIn[2], line 6\u001b[0m\n\u001b[0;32m      4\u001b[0m \u001b[38;5;28;01mimport\u001b[39;00m \u001b[38;5;21;01msqlite3\u001b[39;00m\n\u001b[0;32m      5\u001b[0m \u001b[38;5;28;01mimport\u001b[39;00m \u001b[38;5;21;01mre\u001b[39;00m\n\u001b[1;32m----> 6\u001b[0m df_raw \u001b[38;5;241m=\u001b[39m \u001b[43mpd\u001b[49m\u001b[38;5;241;43m.\u001b[39;49m\u001b[43mread_csv\u001b[49m\u001b[43m(\u001b[49m\u001b[38;5;124;43m'\u001b[39;49m\u001b[38;5;124;43mdata.csv\u001b[39;49m\u001b[38;5;124;43m'\u001b[39;49m\u001b[43m,\u001b[49m\u001b[43m \u001b[49m\u001b[43mencoding\u001b[49m\u001b[38;5;241;43m=\u001b[39;49m\u001b[38;5;124;43m'\u001b[39;49m\u001b[38;5;124;43mlatin-1\u001b[39;49m\u001b[38;5;124;43m'\u001b[39;49m\u001b[43m)\u001b[49m\n\u001b[0;32m      7\u001b[0m df_raw\n",
      "File \u001b[1;32m~\\AppData\\Local\\Programs\\Python\\Python311\\Lib\\site-packages\\pandas\\io\\parsers\\readers.py:912\u001b[0m, in \u001b[0;36mread_csv\u001b[1;34m(filepath_or_buffer, sep, delimiter, header, names, index_col, usecols, dtype, engine, converters, true_values, false_values, skipinitialspace, skiprows, skipfooter, nrows, na_values, keep_default_na, na_filter, verbose, skip_blank_lines, parse_dates, infer_datetime_format, keep_date_col, date_parser, date_format, dayfirst, cache_dates, iterator, chunksize, compression, thousands, decimal, lineterminator, quotechar, quoting, doublequote, escapechar, comment, encoding, encoding_errors, dialect, on_bad_lines, delim_whitespace, low_memory, memory_map, float_precision, storage_options, dtype_backend)\u001b[0m\n\u001b[0;32m    899\u001b[0m kwds_defaults \u001b[38;5;241m=\u001b[39m _refine_defaults_read(\n\u001b[0;32m    900\u001b[0m     dialect,\n\u001b[0;32m    901\u001b[0m     delimiter,\n\u001b[1;32m   (...)\u001b[0m\n\u001b[0;32m    908\u001b[0m     dtype_backend\u001b[38;5;241m=\u001b[39mdtype_backend,\n\u001b[0;32m    909\u001b[0m )\n\u001b[0;32m    910\u001b[0m kwds\u001b[38;5;241m.\u001b[39mupdate(kwds_defaults)\n\u001b[1;32m--> 912\u001b[0m \u001b[38;5;28;01mreturn\u001b[39;00m \u001b[43m_read\u001b[49m\u001b[43m(\u001b[49m\u001b[43mfilepath_or_buffer\u001b[49m\u001b[43m,\u001b[49m\u001b[43m \u001b[49m\u001b[43mkwds\u001b[49m\u001b[43m)\u001b[49m\n",
      "File \u001b[1;32m~\\AppData\\Local\\Programs\\Python\\Python311\\Lib\\site-packages\\pandas\\io\\parsers\\readers.py:577\u001b[0m, in \u001b[0;36m_read\u001b[1;34m(filepath_or_buffer, kwds)\u001b[0m\n\u001b[0;32m    574\u001b[0m _validate_names(kwds\u001b[38;5;241m.\u001b[39mget(\u001b[38;5;124m\"\u001b[39m\u001b[38;5;124mnames\u001b[39m\u001b[38;5;124m\"\u001b[39m, \u001b[38;5;28;01mNone\u001b[39;00m))\n\u001b[0;32m    576\u001b[0m \u001b[38;5;66;03m# Create the parser.\u001b[39;00m\n\u001b[1;32m--> 577\u001b[0m parser \u001b[38;5;241m=\u001b[39m \u001b[43mTextFileReader\u001b[49m\u001b[43m(\u001b[49m\u001b[43mfilepath_or_buffer\u001b[49m\u001b[43m,\u001b[49m\u001b[43m \u001b[49m\u001b[38;5;241;43m*\u001b[39;49m\u001b[38;5;241;43m*\u001b[39;49m\u001b[43mkwds\u001b[49m\u001b[43m)\u001b[49m\n\u001b[0;32m    579\u001b[0m \u001b[38;5;28;01mif\u001b[39;00m chunksize \u001b[38;5;129;01mor\u001b[39;00m iterator:\n\u001b[0;32m    580\u001b[0m     \u001b[38;5;28;01mreturn\u001b[39;00m parser\n",
      "File \u001b[1;32m~\\AppData\\Local\\Programs\\Python\\Python311\\Lib\\site-packages\\pandas\\io\\parsers\\readers.py:1407\u001b[0m, in \u001b[0;36mTextFileReader.__init__\u001b[1;34m(self, f, engine, **kwds)\u001b[0m\n\u001b[0;32m   1404\u001b[0m     \u001b[38;5;28mself\u001b[39m\u001b[38;5;241m.\u001b[39moptions[\u001b[38;5;124m\"\u001b[39m\u001b[38;5;124mhas_index_names\u001b[39m\u001b[38;5;124m\"\u001b[39m] \u001b[38;5;241m=\u001b[39m kwds[\u001b[38;5;124m\"\u001b[39m\u001b[38;5;124mhas_index_names\u001b[39m\u001b[38;5;124m\"\u001b[39m]\n\u001b[0;32m   1406\u001b[0m \u001b[38;5;28mself\u001b[39m\u001b[38;5;241m.\u001b[39mhandles: IOHandles \u001b[38;5;241m|\u001b[39m \u001b[38;5;28;01mNone\u001b[39;00m \u001b[38;5;241m=\u001b[39m \u001b[38;5;28;01mNone\u001b[39;00m\n\u001b[1;32m-> 1407\u001b[0m \u001b[38;5;28mself\u001b[39m\u001b[38;5;241m.\u001b[39m_engine \u001b[38;5;241m=\u001b[39m \u001b[38;5;28;43mself\u001b[39;49m\u001b[38;5;241;43m.\u001b[39;49m\u001b[43m_make_engine\u001b[49m\u001b[43m(\u001b[49m\u001b[43mf\u001b[49m\u001b[43m,\u001b[49m\u001b[43m \u001b[49m\u001b[38;5;28;43mself\u001b[39;49m\u001b[38;5;241;43m.\u001b[39;49m\u001b[43mengine\u001b[49m\u001b[43m)\u001b[49m\n",
      "File \u001b[1;32m~\\AppData\\Local\\Programs\\Python\\Python311\\Lib\\site-packages\\pandas\\io\\parsers\\readers.py:1661\u001b[0m, in \u001b[0;36mTextFileReader._make_engine\u001b[1;34m(self, f, engine)\u001b[0m\n\u001b[0;32m   1659\u001b[0m     \u001b[38;5;28;01mif\u001b[39;00m \u001b[38;5;124m\"\u001b[39m\u001b[38;5;124mb\u001b[39m\u001b[38;5;124m\"\u001b[39m \u001b[38;5;129;01mnot\u001b[39;00m \u001b[38;5;129;01min\u001b[39;00m mode:\n\u001b[0;32m   1660\u001b[0m         mode \u001b[38;5;241m+\u001b[39m\u001b[38;5;241m=\u001b[39m \u001b[38;5;124m\"\u001b[39m\u001b[38;5;124mb\u001b[39m\u001b[38;5;124m\"\u001b[39m\n\u001b[1;32m-> 1661\u001b[0m \u001b[38;5;28mself\u001b[39m\u001b[38;5;241m.\u001b[39mhandles \u001b[38;5;241m=\u001b[39m \u001b[43mget_handle\u001b[49m\u001b[43m(\u001b[49m\n\u001b[0;32m   1662\u001b[0m \u001b[43m    \u001b[49m\u001b[43mf\u001b[49m\u001b[43m,\u001b[49m\n\u001b[0;32m   1663\u001b[0m \u001b[43m    \u001b[49m\u001b[43mmode\u001b[49m\u001b[43m,\u001b[49m\n\u001b[0;32m   1664\u001b[0m \u001b[43m    \u001b[49m\u001b[43mencoding\u001b[49m\u001b[38;5;241;43m=\u001b[39;49m\u001b[38;5;28;43mself\u001b[39;49m\u001b[38;5;241;43m.\u001b[39;49m\u001b[43moptions\u001b[49m\u001b[38;5;241;43m.\u001b[39;49m\u001b[43mget\u001b[49m\u001b[43m(\u001b[49m\u001b[38;5;124;43m\"\u001b[39;49m\u001b[38;5;124;43mencoding\u001b[39;49m\u001b[38;5;124;43m\"\u001b[39;49m\u001b[43m,\u001b[49m\u001b[43m \u001b[49m\u001b[38;5;28;43;01mNone\u001b[39;49;00m\u001b[43m)\u001b[49m\u001b[43m,\u001b[49m\n\u001b[0;32m   1665\u001b[0m \u001b[43m    \u001b[49m\u001b[43mcompression\u001b[49m\u001b[38;5;241;43m=\u001b[39;49m\u001b[38;5;28;43mself\u001b[39;49m\u001b[38;5;241;43m.\u001b[39;49m\u001b[43moptions\u001b[49m\u001b[38;5;241;43m.\u001b[39;49m\u001b[43mget\u001b[49m\u001b[43m(\u001b[49m\u001b[38;5;124;43m\"\u001b[39;49m\u001b[38;5;124;43mcompression\u001b[39;49m\u001b[38;5;124;43m\"\u001b[39;49m\u001b[43m,\u001b[49m\u001b[43m \u001b[49m\u001b[38;5;28;43;01mNone\u001b[39;49;00m\u001b[43m)\u001b[49m\u001b[43m,\u001b[49m\n\u001b[0;32m   1666\u001b[0m \u001b[43m    \u001b[49m\u001b[43mmemory_map\u001b[49m\u001b[38;5;241;43m=\u001b[39;49m\u001b[38;5;28;43mself\u001b[39;49m\u001b[38;5;241;43m.\u001b[39;49m\u001b[43moptions\u001b[49m\u001b[38;5;241;43m.\u001b[39;49m\u001b[43mget\u001b[49m\u001b[43m(\u001b[49m\u001b[38;5;124;43m\"\u001b[39;49m\u001b[38;5;124;43mmemory_map\u001b[39;49m\u001b[38;5;124;43m\"\u001b[39;49m\u001b[43m,\u001b[49m\u001b[43m \u001b[49m\u001b[38;5;28;43;01mFalse\u001b[39;49;00m\u001b[43m)\u001b[49m\u001b[43m,\u001b[49m\n\u001b[0;32m   1667\u001b[0m \u001b[43m    \u001b[49m\u001b[43mis_text\u001b[49m\u001b[38;5;241;43m=\u001b[39;49m\u001b[43mis_text\u001b[49m\u001b[43m,\u001b[49m\n\u001b[0;32m   1668\u001b[0m \u001b[43m    \u001b[49m\u001b[43merrors\u001b[49m\u001b[38;5;241;43m=\u001b[39;49m\u001b[38;5;28;43mself\u001b[39;49m\u001b[38;5;241;43m.\u001b[39;49m\u001b[43moptions\u001b[49m\u001b[38;5;241;43m.\u001b[39;49m\u001b[43mget\u001b[49m\u001b[43m(\u001b[49m\u001b[38;5;124;43m\"\u001b[39;49m\u001b[38;5;124;43mencoding_errors\u001b[39;49m\u001b[38;5;124;43m\"\u001b[39;49m\u001b[43m,\u001b[49m\u001b[43m \u001b[49m\u001b[38;5;124;43m\"\u001b[39;49m\u001b[38;5;124;43mstrict\u001b[39;49m\u001b[38;5;124;43m\"\u001b[39;49m\u001b[43m)\u001b[49m\u001b[43m,\u001b[49m\n\u001b[0;32m   1669\u001b[0m \u001b[43m    \u001b[49m\u001b[43mstorage_options\u001b[49m\u001b[38;5;241;43m=\u001b[39;49m\u001b[38;5;28;43mself\u001b[39;49m\u001b[38;5;241;43m.\u001b[39;49m\u001b[43moptions\u001b[49m\u001b[38;5;241;43m.\u001b[39;49m\u001b[43mget\u001b[49m\u001b[43m(\u001b[49m\u001b[38;5;124;43m\"\u001b[39;49m\u001b[38;5;124;43mstorage_options\u001b[39;49m\u001b[38;5;124;43m\"\u001b[39;49m\u001b[43m,\u001b[49m\u001b[43m \u001b[49m\u001b[38;5;28;43;01mNone\u001b[39;49;00m\u001b[43m)\u001b[49m\u001b[43m,\u001b[49m\n\u001b[0;32m   1670\u001b[0m \u001b[43m\u001b[49m\u001b[43m)\u001b[49m\n\u001b[0;32m   1671\u001b[0m \u001b[38;5;28;01massert\u001b[39;00m \u001b[38;5;28mself\u001b[39m\u001b[38;5;241m.\u001b[39mhandles \u001b[38;5;129;01mis\u001b[39;00m \u001b[38;5;129;01mnot\u001b[39;00m \u001b[38;5;28;01mNone\u001b[39;00m\n\u001b[0;32m   1672\u001b[0m f \u001b[38;5;241m=\u001b[39m \u001b[38;5;28mself\u001b[39m\u001b[38;5;241m.\u001b[39mhandles\u001b[38;5;241m.\u001b[39mhandle\n",
      "File \u001b[1;32m~\\AppData\\Local\\Programs\\Python\\Python311\\Lib\\site-packages\\pandas\\io\\common.py:859\u001b[0m, in \u001b[0;36mget_handle\u001b[1;34m(path_or_buf, mode, encoding, compression, memory_map, is_text, errors, storage_options)\u001b[0m\n\u001b[0;32m    854\u001b[0m \u001b[38;5;28;01melif\u001b[39;00m \u001b[38;5;28misinstance\u001b[39m(handle, \u001b[38;5;28mstr\u001b[39m):\n\u001b[0;32m    855\u001b[0m     \u001b[38;5;66;03m# Check whether the filename is to be opened in binary mode.\u001b[39;00m\n\u001b[0;32m    856\u001b[0m     \u001b[38;5;66;03m# Binary mode does not support 'encoding' and 'newline'.\u001b[39;00m\n\u001b[0;32m    857\u001b[0m     \u001b[38;5;28;01mif\u001b[39;00m ioargs\u001b[38;5;241m.\u001b[39mencoding \u001b[38;5;129;01mand\u001b[39;00m \u001b[38;5;124m\"\u001b[39m\u001b[38;5;124mb\u001b[39m\u001b[38;5;124m\"\u001b[39m \u001b[38;5;129;01mnot\u001b[39;00m \u001b[38;5;129;01min\u001b[39;00m ioargs\u001b[38;5;241m.\u001b[39mmode:\n\u001b[0;32m    858\u001b[0m         \u001b[38;5;66;03m# Encoding\u001b[39;00m\n\u001b[1;32m--> 859\u001b[0m         handle \u001b[38;5;241m=\u001b[39m \u001b[38;5;28;43mopen\u001b[39;49m\u001b[43m(\u001b[49m\n\u001b[0;32m    860\u001b[0m \u001b[43m            \u001b[49m\u001b[43mhandle\u001b[49m\u001b[43m,\u001b[49m\n\u001b[0;32m    861\u001b[0m \u001b[43m            \u001b[49m\u001b[43mioargs\u001b[49m\u001b[38;5;241;43m.\u001b[39;49m\u001b[43mmode\u001b[49m\u001b[43m,\u001b[49m\n\u001b[0;32m    862\u001b[0m \u001b[43m            \u001b[49m\u001b[43mencoding\u001b[49m\u001b[38;5;241;43m=\u001b[39;49m\u001b[43mioargs\u001b[49m\u001b[38;5;241;43m.\u001b[39;49m\u001b[43mencoding\u001b[49m\u001b[43m,\u001b[49m\n\u001b[0;32m    863\u001b[0m \u001b[43m            \u001b[49m\u001b[43merrors\u001b[49m\u001b[38;5;241;43m=\u001b[39;49m\u001b[43merrors\u001b[49m\u001b[43m,\u001b[49m\n\u001b[0;32m    864\u001b[0m \u001b[43m            \u001b[49m\u001b[43mnewline\u001b[49m\u001b[38;5;241;43m=\u001b[39;49m\u001b[38;5;124;43m\"\u001b[39;49m\u001b[38;5;124;43m\"\u001b[39;49m\u001b[43m,\u001b[49m\n\u001b[0;32m    865\u001b[0m \u001b[43m        \u001b[49m\u001b[43m)\u001b[49m\n\u001b[0;32m    866\u001b[0m     \u001b[38;5;28;01melse\u001b[39;00m:\n\u001b[0;32m    867\u001b[0m         \u001b[38;5;66;03m# Binary mode\u001b[39;00m\n\u001b[0;32m    868\u001b[0m         handle \u001b[38;5;241m=\u001b[39m \u001b[38;5;28mopen\u001b[39m(handle, ioargs\u001b[38;5;241m.\u001b[39mmode)\n",
      "\u001b[1;31mFileNotFoundError\u001b[0m: [Errno 2] No such file or directory: 'data.csv'"
     ]
    }
   ],
   "source": [
    "import pandas as pd\n",
    "import seaborn as sns\n",
    "import matplotlib.pyplot as plt\n",
    "import sqlite3\n",
    "import re\n",
    "df_raw = pd.read_csv('data.csv', encoding='latin-1')\n",
    "df_raw"
   ]
  },
  {
   "cell_type": "code",
   "execution_count": null,
   "id": "7f7ed66a-4379-40b8-895a-59599221b93f",
   "metadata": {
    "tags": []
   },
   "outputs": [],
   "source": [
    "df_raw.HS.value_counts()"
   ]
  },
  {
   "cell_type": "code",
   "execution_count": null,
   "id": "c81cc368-832d-416e-be1e-722aa737da56",
   "metadata": {
    "tags": []
   },
   "outputs": [],
   "source": [
    "df_raw.Abusive.value_counts()"
   ]
  },
  {
   "cell_type": "code",
   "execution_count": null,
   "id": "331841db-95a4-46c9-a522-5e92bdc32cfb",
   "metadata": {
    "tags": []
   },
   "outputs": [],
   "source": [
    "clr_text = df_raw.drop_duplicates('Tweet')\n",
    "clr_text.head(4)"
   ]
  },
  {
   "cell_type": "code",
   "execution_count": null,
   "id": "891f9de9-40b4-4b27-ba4e-e77420c72a1e",
   "metadata": {
    "tags": []
   },
   "outputs": [],
   "source": [
    "clr_text.HS.value_counts()"
   ]
  },
  {
   "cell_type": "code",
   "execution_count": null,
   "id": "0428ddb8-4538-45ef-9762-832133362797",
   "metadata": {
    "tags": []
   },
   "outputs": [],
   "source": [
    "clr_text.Abusive.value_counts()"
   ]
  },
  {
   "cell_type": "code",
   "execution_count": null,
   "id": "681d4cc6-9d15-44bc-8be4-a05443f2463e",
   "metadata": {
    "tags": []
   },
   "outputs": [],
   "source": [
    "print(\"Toxic Shape: \", clr_text[(clr_text['HS'] == 1) | clr_text['Abusive'] == 1].shape)\n",
    "print(\"Non-toxic shape: \", clr_text[(clr_text['HS'] == 0) & (clr_text['Abusive'] == 0)].shape)"
   ]
  },
  {
   "cell_type": "code",
   "execution_count": null,
   "id": "9ab8d8c5-28ba-49d6-b3c5-69a536fee70e",
   "metadata": {
    "tags": []
   },
   "outputs": [],
   "source": [
    "import numpy as np\n",
    "conditions = [(clr_text['HS_Weak'] == 1),(clr_text['HS_Moderate'] == 1),(clr_text['HS_Strong'] == 1)]\n",
    "\n",
    "values = ['weak','moderate','strong']\n",
    "clr_text['level'] = np.select(conditions,values)\n",
    "clr_text.sample(5)"
   ]
  },
  {
   "cell_type": "code",
   "execution_count": null,
   "id": "0ae90b06-e9f5-48f8-ad14-eb1be444c13e",
   "metadata": {
    "tags": []
   },
   "outputs": [],
   "source": [
    "import numpy as np\n",
    "condition2 = [(clr_text['HS'] == 1),(clr_text['Abusive'] == 1)]\n",
    "\n",
    "values2 = ['hating','kasar']\n",
    "clr_text['tweet_type'] = np.select(condition2,values2)\n",
    "clr_text.sample(5)"
   ]
  },
  {
   "cell_type": "code",
   "execution_count": null,
   "id": "5fa4c19d-7530-4d0f-92e4-f109eafe1c83",
   "metadata": {
    "tags": []
   },
   "outputs": [],
   "source": [
    "#data['tweet_type'] = np.where((data['HS'] == 1) & (data['Abusive'] == 1), 'both', data['tweet_type'])\n",
    "clr_text['tweet_type'] = np.where((clr_text['HS'] == 0) & (clr_text['Abusive'] == 0), 'non_toxic', clr_text['tweet_type'])\n",
    "clr_text.sample(5)"
   ]
  },
  {
   "cell_type": "code",
   "execution_count": null,
   "id": "b8c103fb-2655-45fa-9681-b926cb10cbc9",
   "metadata": {
    "tags": []
   },
   "outputs": [],
   "source": [
    "print(f\"data abusive dan hs: \", clr_text[(clr_text['HS'] == 1) & clr_text['Abusive'] == 1].shape)\n",
    "print(f\"data HS\", clr_text[(clr_text['HS']==1)].shape)\n",
    "print(f\"data abusive\",clr_text[(clr_text['Abusive']==1)].shape)\n",
    "print(f\"Non-toxic: \", clr_text[(clr_text['HS'] == 0) & (clr_text['Abusive'] == 0)].shape)"
   ]
  },
  {
   "cell_type": "code",
   "execution_count": null,
   "id": "b25a7439-e34e-4635-81c6-dffc2443a1f5",
   "metadata": {
    "tags": []
   },
   "outputs": [],
   "source": [
    "clr_text.groupby('tweet_type').tweet_type.count().plot(kind = 'bar')"
   ]
  },
  {
   "cell_type": "code",
   "execution_count": null,
   "id": "5c97fb9d-dfd4-4c0f-94bf-eed7584602a9",
   "metadata": {
    "tags": []
   },
   "outputs": [],
   "source": [
    "#import seaborn as sns\n",
    "import matplotlib.pyplot as plt\n",
    "from wordcloud import WordCloud\n",
    "text = ' '.join(clr_text['Tweet'])\n",
    "wrd = WordCloud().generate(text)"
   ]
  },
  {
   "cell_type": "code",
   "execution_count": null,
   "id": "22605acb-30d7-4110-8a0e-89d72aa1cfbd",
   "metadata": {
    "tags": []
   },
   "outputs": [],
   "source": [
    "#generate plot\n",
    "plt.imshow(wrd)\n",
    "plt.axis(\"off\")\n",
    "plt.show()"
   ]
  },
  {
   "cell_type": "code",
   "execution_count": null,
   "id": "645e5de0-d0a1-491c-9db8-4d345faf195b",
   "metadata": {
    "tags": []
   },
   "outputs": [],
   "source": [
    "clr_text['num_karakter'] = clr_text['Tweet'].str.len()\n",
    "clr_text.head(3)"
   ]
  },
  {
   "cell_type": "code",
   "execution_count": null,
   "id": "a7f1004b-3af6-4bac-96b6-8d182d3c7f58",
   "metadata": {
    "tags": []
   },
   "outputs": [],
   "source": [
    "j0 = clr_text['num_kata'].min()\n",
    "j0"
   ]
  },
  {
   "cell_type": "code",
   "execution_count": null,
   "id": "68269c9f-283a-4f8e-87a3-499608808d01",
   "metadata": {
    "tags": []
   },
   "outputs": [],
   "source": [
    "j100 = clr_text['num_kata'].max()\n",
    "j100"
   ]
  },
  {
   "cell_type": "code",
   "execution_count": null,
   "id": "51e52aac-76e0-4cda-b730-93dd0edf7d04",
   "metadata": {
    "tags": []
   },
   "outputs": [],
   "source": [
    "range_total_kata = j100-j0\n",
    "range_total_kata"
   ]
  },
  {
   "cell_type": "code",
   "execution_count": null,
   "id": "b6620e5a-72bb-4bd7-8a95-546225974e68",
   "metadata": {
    "tags": []
   },
   "outputs": [],
   "source": [
    "clr_text['num_kata'] = clr_text['Tweet'].apply(lambda x: len(x.split(' ')))\n",
    "clr_text.head()"
   ]
  },
  {
   "cell_type": "code",
   "execution_count": null,
   "id": "29753bd8-fa79-4aa4-b8a1-75a05123b4ce",
   "metadata": {
    "tags": []
   },
   "outputs": [],
   "source": [
    "clr_text['num_karakter'].sum()"
   ]
  },
  {
   "cell_type": "code",
   "execution_count": null,
   "id": "aff15273-7e66-4d63-8818-76ce62c15f6d",
   "metadata": {
    "tags": []
   },
   "outputs": [],
   "source": [
    "clr_text['num_kata'].sum()"
   ]
  },
  {
   "cell_type": "code",
   "execution_count": null,
   "id": "338a80b6-5293-479f-987b-d17ce12e3fe8",
   "metadata": {
    "tags": []
   },
   "outputs": [],
   "source": [
    "clr_text['num_kata'].mean()"
   ]
  },
  {
   "cell_type": "code",
   "execution_count": null,
   "id": "3a52a600-79dc-4fab-b794-a9c5aa2546c6",
   "metadata": {
    "tags": []
   },
   "outputs": [],
   "source": [
    "clr_text['num_kata'].mode()"
   ]
  },
  {
   "cell_type": "code",
   "execution_count": null,
   "id": "7b1909e3-74bb-48f4-a0a7-fb1223f1a4b5",
   "metadata": {
    "tags": []
   },
   "outputs": [],
   "source": [
    "clr_text['num_kata'].median()"
   ]
  },
  {
   "cell_type": "code",
   "execution_count": null,
   "id": "f24db657-2eb7-4475-822b-e94ae943f371",
   "metadata": {
    "tags": []
   },
   "outputs": [],
   "source": [
    "clr_text['num_karakter'].mean()"
   ]
  },
  {
   "cell_type": "code",
   "execution_count": null,
   "id": "b9c6c290-bc0d-4eea-aeac-5b85211babc4",
   "metadata": {
    "tags": []
   },
   "outputs": [],
   "source": [
    "clr_text['num_karakter'].mode()"
   ]
  },
  {
   "cell_type": "code",
   "execution_count": null,
   "id": "061ecc93-f83e-47fc-81dd-d70c0b7564dd",
   "metadata": {
    "tags": []
   },
   "outputs": [],
   "source": [
    "clr_text['num_karakter'].median()"
   ]
  },
  {
   "cell_type": "code",
   "execution_count": null,
   "id": "3c7c77b2-c374-4ff6-a1d4-e41a19dbce56",
   "metadata": {
    "tags": []
   },
   "outputs": [],
   "source": [
    "#hasil nilai variance\n",
    "import numpy as np\n",
    "clr_text['num_karakter'].var()"
   ]
  },
  {
   "cell_type": "code",
   "execution_count": null,
   "id": "4ca52b45-bfe5-44dc-a8e0-811b88838f75",
   "metadata": {
    "tags": []
   },
   "outputs": [],
   "source": [
    "import numpy as np\n",
    "clr_text['num_kata'].var()"
   ]
  },
  {
   "cell_type": "code",
   "execution_count": null,
   "id": "fd74d23a-cf5c-4d17-946f-e8988f3da093",
   "metadata": {
    "tags": []
   },
   "outputs": [],
   "source": [
    "#hasil nilai variance\n",
    "import numpy as np\n",
    "clr_text['num_karakter'].std()"
   ]
  },
  {
   "cell_type": "code",
   "execution_count": null,
   "id": "52e44016-a202-40dc-add9-cffc16ecee7e",
   "metadata": {
    "tags": []
   },
   "outputs": [],
   "source": [
    "clr_text['num_karakter'].skew()\n"
   ]
  },
  {
   "cell_type": "code",
   "execution_count": null,
   "id": "c92c69bc-1d45-42b4-afff-e438af91e0ca",
   "metadata": {
    "tags": []
   },
   "outputs": [],
   "source": [
    "clr_text['num_kata'].skew()"
   ]
  },
  {
   "cell_type": "code",
   "execution_count": null,
   "id": "c6da8925-c680-4e4f-aadc-03a89b67a5f7",
   "metadata": {
    "tags": []
   },
   "outputs": [],
   "source": [
    "clr_text['num_karakter'].kurtosis()"
   ]
  },
  {
   "cell_type": "code",
   "execution_count": null,
   "id": "64dd9fec-9525-4d35-8524-aa01c49e1e5b",
   "metadata": {
    "tags": []
   },
   "outputs": [],
   "source": [
    "clr_text['num_kata'].kurtosis()"
   ]
  },
  {
   "cell_type": "code",
   "execution_count": null,
   "id": "73866201-4495-4bcc-9c19-3ab615cf7929",
   "metadata": {
    "tags": []
   },
   "outputs": [],
   "source": [
    "clr_text['num_karakter'].hist()"
   ]
  },
  {
   "cell_type": "code",
   "execution_count": null,
   "id": "57351b1f-d142-445e-a292-47e053a198d6",
   "metadata": {
    "tags": []
   },
   "outputs": [],
   "source": [
    "clr_text['num_kata'].hist()"
   ]
  },
  {
   "cell_type": "code",
   "execution_count": null,
   "id": "a225feee-e69c-497e-95df-59a002975a34",
   "metadata": {
    "tags": []
   },
   "outputs": [],
   "source": [
    "sns.histplot(data=clr_text, x='num_kata', binwidth=5, kde=True)\n",
    "plt.vlines(clr_text['num_kata'].mean(), 0, 3000, label='mean', linestyles='dashed', color='red')\n",
    "plt.vlines(clr_text['num_kata'].mode(), 0, 3000, label='mode', linestyles='dashed', color='green')\n",
    "plt.vlines(clr_text['num_kata'].median(), 0, 3000, label='median', linestyles='dashed', color='black')\n",
    "plt.title(\"Histogram and Central Tendency\\nof num_kata\", loc=\"left\", fontsize=14)\n",
    "plt.legend()\n",
    "plt.show()"
   ]
  },
  {
   "cell_type": "code",
   "execution_count": null,
   "id": "4ccbc46e-2fc3-4984-9ffe-7a88f8b734a6",
   "metadata": {
    "tags": []
   },
   "outputs": [],
   "source": [
    "sns.histplot(data=clr_text, x='num_karakter', binwidth=5, kde=True)\n",
    "plt.vlines(clr_text['num_karakter'].mean(), 0, 500, label='mean', linestyles='dashed', color='red')\n",
    "plt.vlines(clr_text['num_karakter'].mode(), 0, 500, label='mode', linestyles='dashed', color='green')\n",
    "plt.vlines(clr_text['num_karakter'].median(), 0, 500, label='median', linestyles='dashed', color='black')\n",
    "plt.title(\"Histogram and Central Tendency\\nof num_karakter\", loc=\"left\", fontsize=14)\n",
    "plt.legend()\n",
    "plt.show()"
   ]
  },
  {
   "cell_type": "code",
   "execution_count": null,
   "id": "9c8ea0ce-6942-4722-868e-9d2732ed672f",
   "metadata": {
    "tags": []
   },
   "outputs": [],
   "source": [
    "!pip3 install nltk\n",
    "import nltk\n",
    "nltk.download('punkt')\n",
    "from nltk.tokenize import word_tokenize\n",
    "from collections import Counter"
   ]
  },
  {
   "cell_type": "code",
   "execution_count": null,
   "id": "5fed103d-0740-47cd-883a-126748b61d95",
   "metadata": {
    "tags": []
   },
   "outputs": [],
   "source": [
    "pip install wordcloud"
   ]
  },
  {
   "cell_type": "code",
   "execution_count": null,
   "id": "92d8e51e-b351-4876-bf5d-3fd1cce44f2b",
   "metadata": {},
   "outputs": [],
   "source": [
    "clr_text.plot(x='num_kata', y='num_karakter', kind = 'scatter')"
   ]
  },
  {
   "cell_type": "code",
   "execution_count": null,
   "id": "278083f2-4291-42ba-83f5-3cbc3e3789c4",
   "metadata": {},
   "outputs": [],
   "source": [
    "p0 = clr_text['num_karakter'].min()\n",
    "p0"
   ]
  },
  {
   "cell_type": "code",
   "execution_count": null,
   "id": "bc6fc14c-26fe-4c30-af28-3303a9107b1f",
   "metadata": {},
   "outputs": [],
   "source": [
    "p100 = clr_text['num_karakter'].max()\n",
    "p100"
   ]
  },
  {
   "cell_type": "code",
   "execution_count": null,
   "id": "cbe8bb67-0903-497b-8127-e41ec900b175",
   "metadata": {},
   "outputs": [],
   "source": [
    "q1 = clr_text['num_karakter'].quantile(0.25)\n",
    "q1"
   ]
  },
  {
   "cell_type": "code",
   "execution_count": null,
   "id": "85d8fe22-e2fe-401b-9fff-cc022ad3f739",
   "metadata": {
    "tags": []
   },
   "outputs": [],
   "source": [
    "q2 = clr_text['num_karakter'].quantile(0.5)\n",
    "q2"
   ]
  },
  {
   "cell_type": "code",
   "execution_count": null,
   "id": "817125c9-5a5b-4d56-922b-df3895c70456",
   "metadata": {
    "tags": []
   },
   "outputs": [],
   "source": [
    "q3 = clr_text['num_karakter'].quantile(0.75)\n",
    "q3"
   ]
  },
  {
   "cell_type": "code",
   "execution_count": null,
   "id": "12cfabc7-8248-47b3-bb54-a33a163f724e",
   "metadata": {
    "tags": []
   },
   "outputs": [],
   "source": [
    "iqr = q3-q1"
   ]
  },
  {
   "cell_type": "code",
   "execution_count": null,
   "id": "b2a7629a-b050-4c60-ae54-b9f1a2ecf19b",
   "metadata": {
    "tags": []
   },
   "outputs": [],
   "source": [
    "# cari batas bawah\n",
    "lower_limit = q1-1.5*iqr\n",
    "print(\"Batas Bawah 'total_char: \", lower_limit)\n",
    "print(\"nilai minimum\", p0)"
   ]
  },
  {
   "cell_type": "code",
   "execution_count": null,
   "id": "d4f686c3-620c-4b39-b437-77c71a2cd51a",
   "metadata": {
    "tags": []
   },
   "outputs": [],
   "source": [
    "#cari batas atas\n",
    "upper_limit = q3-1.5*iqr\n",
    "print(\"Batas atas 'total_char: \", upper_limit)\n",
    "print(\"nilai maksimum\", p100)"
   ]
  },
  {
   "cell_type": "code",
   "execution_count": null,
   "id": "0d214306-b535-4f13-987f-5665e0ad6880",
   "metadata": {
    "tags": []
   },
   "outputs": [],
   "source": [
    "if lower_limit < p0:\n",
    "    print(\"Tidak ada outlier dari sisi batas bawah\")\n",
    "else : \n",
    "    print(\"ada outlier dari sisi batas bawah\")"
   ]
  },
  {
   "cell_type": "code",
   "execution_count": null,
   "id": "1aa8259f-7ffa-44bf-8ba7-58e5a6012aed",
   "metadata": {
    "tags": []
   },
   "outputs": [],
   "source": [
    "if lower_limit > p100:\n",
    "    print(\"Tidak ada outlier dari sisi batas atas\")\n",
    "else : \n",
    "    print(\"ada outlier dari sisi batas atas\")"
   ]
  },
  {
   "cell_type": "code",
   "execution_count": null,
   "id": "2aa22ee5-43e1-4026-82f0-5b306413142f",
   "metadata": {
    "tags": []
   },
   "outputs": [],
   "source": [
    "range_total_char = p100-p0\n",
    "range_total_char"
   ]
  },
  {
   "cell_type": "code",
   "execution_count": null,
   "id": "3fa2fcdd-8562-4b42-8855-6e0897608f13",
   "metadata": {},
   "outputs": [],
   "source": []
  }
 ],
 "metadata": {
  "kernelspec": {
   "display_name": "Python 3 (ipykernel)",
   "language": "python",
   "name": "python3"
  },
  "language_info": {
   "codemirror_mode": {
    "name": "ipython",
    "version": 3
   },
   "file_extension": ".py",
   "mimetype": "text/x-python",
   "name": "python",
   "nbconvert_exporter": "python",
   "pygments_lexer": "ipython3",
   "version": "3.11.2"
  }
 },
 "nbformat": 4,
 "nbformat_minor": 5
}
